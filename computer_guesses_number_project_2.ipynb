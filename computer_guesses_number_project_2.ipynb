{
  "nbformat": 4,
  "nbformat_minor": 0,
  "metadata": {
    "colab": {
      "provenance": [],
      "authorship_tag": "ABX9TyP4UCzknHjQqDqkCJpeWdpo",
      "include_colab_link": true
    },
    "kernelspec": {
      "name": "python3",
      "display_name": "Python 3"
    },
    "language_info": {
      "name": "python"
    }
  },
  "cells": [
    {
      "cell_type": "markdown",
      "metadata": {
        "id": "view-in-github",
        "colab_type": "text"
      },
      "source": [
        "<a href=\"https://colab.research.google.com/github/irythmgarg/computer_guesses_number_project_2/blob/main/computer_guesses_number_project_2.ipynb\" target=\"_parent\"><img src=\"https://colab.research.google.com/assets/colab-badge.svg\" alt=\"Open In Colab\"/></a>"
      ]
    },
    {
      "cell_type": "code",
      "execution_count": 14,
      "metadata": {
        "colab": {
          "base_uri": "https://localhost:8080/"
        },
        "id": "FiukEeteSIA0",
        "outputId": "959d640f-8ed8-459d-8c8b-aaca4ef0fcbe"
      },
      "outputs": [
        {
          "name": "stdout",
          "output_type": "stream",
          "text": [
            "Hlo Welcome..... guess a number between 1 and 100\n",
            "guess is  1\n",
            "is it correct ,large or small than your number (correct/large/small) ?large\n",
            "guess is  34\n",
            "is it correct ,large or small than your number (correct/large/small) ?large\n",
            "guess is  98\n",
            "is it correct ,large or small than your number (correct/large/small) ?small\n",
            "guess is  67\n",
            "is it correct ,large or small than your number (correct/large/small) ?small\n",
            "guess is  49\n",
            "is it correct ,large or small than your number (correct/large/small) ?large\n",
            "guess is  50\n",
            "is it correct ,large or small than your number (correct/large/small) ?correct\n",
            "you guessed it in  6  tries\n",
            "do you want to play again (yes/no)no\n"
          ]
        }
      ],
      "source": [
        "#You give a number in your mind. Then the computer guesses a number.\n",
        "#You tell the computer that the number guessed is too large or too small.\n",
        "#Then the computer narrows down the range of guessing the number. The process continues until you tell the computer that the guess is correct.\n",
        "\n",
        "import random as r# import random\n",
        "\n",
        "print(\"Hlo Welcome..... guess a number between 1 and 100\");\n",
        "ans=\"yes\";\n",
        "while ans==\"yes\":# till player want to play\n",
        "  s=1;\n",
        "  e=100;\n",
        "  counter=0;\n",
        "  find=\"false\";#intially not found\n",
        "  while(find==\"false\"):\n",
        "    guess=r.randint(s,e);\n",
        "    print(\"guess is \",guess);\n",
        "    what=input(\"is it correct ,large or small than your number (correct/large/small) ?\");# is it write or wrong , if wrong then it is small or large\n",
        "    if(what=='correct'):# if it is correct\n",
        "      find=\"true\";\n",
        "    elif(what==\"large\"):\n",
        "      s=guess+1;\n",
        "    elif(what==\"small\"):\n",
        "      e=guess-1;\n",
        "    counter+=1;\n",
        "  print(\"you guessed it in \",counter,\" tries\");\n",
        "  ans=input(\"do you want to play again (yes/no)\");# ask user to play more on no;\n",
        "print(\"ok bye\");\n",
        "\n"
      ]
    }
  ]
}